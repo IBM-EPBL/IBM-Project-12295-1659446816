{
  "cells": [
    {
      "cell_type": "markdown",
      "id": "8w8FPmNwq_Fm",
      "metadata": {
        "id": "8w8FPmNwq_Fm"
      },
      "source": [
        "# Sprint 2 - Model Building and Saving✅\n",
        "---\n",
        "\n",
        "\n",
        "> Team Id : PNT2022TMID32148 \n",
        "\n",
        "\n",
        "\n",
        "\n"
      ]
    },
    {
      "cell_type": "code",
      "execution_count": 1,
      "id": "18f65ccc",
      "metadata": {
        "id": "18f65ccc"
      },
      "outputs": [],
      "source": [
        "import numpy as np\n",
        "import tensorflow as tf\n",
        "from keras.datasets import mnist\n",
        "from keras.models import Sequential\n",
        "from keras import layers\n",
        "from keras.layers import Dense,Flatten\n",
        "from keras.layers import Conv2D\n",
        "from keras.optimizers import Adam\n",
        "from keras.utils import np_utils\n",
        "import matplotlib.pyplot as plt\n",
        "from keras.callbacks import EarlyStopping, ReduceLROnPlateau"
      ]
    },
    {
      "cell_type": "code",
      "execution_count": 2,
      "id": "db6d213c",
      "metadata": {
        "colab": {
          "base_uri": "https://localhost:8080/"
        },
        "id": "db6d213c",
        "outputId": "9d5fd9e7-df6d-4e99-9a43-3d25c5d5e41e"
      },
      "outputs": [
        {
          "name": "stdout",
          "output_type": "stream",
          "text": [
            "(60000, 28, 28)\n",
            "(10000, 28, 28)\n"
          ]
        }
      ],
      "source": [
        "(X_train,y_train),(X_test,y_test) =mnist.load_data()\n",
        "print(X_train.shape)\n",
        "print(X_test.shape)"
      ]
    },
    {
      "cell_type": "code",
      "execution_count": 3,
      "id": "64b88dd4",
      "metadata": {
        "colab": {
          "base_uri": "https://localhost:8080/",
          "height": 300
        },
        "id": "64b88dd4",
        "outputId": "7ed5d885-e34f-4b96-d5c5-4bd9ec37547f"
      },
      "outputs": [
        {
          "name": "stdout",
          "output_type": "stream",
          "text": [
            "The label value is  6\n"
          ]
        },
        {
          "data": {
            "text/plain": [
              "<matplotlib.image.AxesImage at 0x21dc228fa30>"
            ]
          },
          "execution_count": 3,
          "metadata": {},
          "output_type": "execute_result"
        },
        {
          "data": {
            "image/png": "[encoded data removed]",
            "text/plain": [
              "<Figure size 640x480 with 1 Axes>"
            ]
          },
          "metadata": {},
          "output_type": "display_data"
        }
      ],
      "source": [
        "print(\"The label value is \",y_test[21])\n",
        "plt.imshow(X_test[21])"
      ]
    },
    {
      "cell_type": "code",
      "execution_count": 4,
      "id": "CJat6_BTAK6x",
      "metadata": {
        "colab": {
          "base_uri": "https://localhost:8080/",
          "height": 300
        },
        "id": "CJat6_BTAK6x",
        "outputId": "5857ffc6-729e-44d5-841f-843610020b1e"
      },
      "outputs": [
        {
          "name": "stdout",
          "output_type": "stream",
          "text": [
            "The label value is  1\n"
          ]
        },
        {
          "data": {
            "text/plain": [
              "<matplotlib.image.AxesImage at 0x21dc23b3c10>"
            ]
          },
          "execution_count": 4,
          "metadata": {},
          "output_type": "execute_result"
        },
        {
          "data": {
            "image/png": "[encoded data removed]",
            "text/plain": [
              "<Figure size 640x480 with 1 Axes>"
            ]
          },
          "metadata": {},
          "output_type": "display_data"
        }
      ],
      "source": [
        "print(\"The label value is \",y_train[24])\n",
        "plt.imshow(X_train[24])"
      ]
    },
    {
      "cell_type": "code",
      "execution_count": 6,
      "id": "02127220",
      "metadata": {
        "id": "02127220"
      },
      "outputs": [],
      "source": [
        "X_train = X_train.reshape(60000, 28, 28, 1).astype('float32')\n",
        "X_test = X_test.reshape(10000, 28, 28, 1).astype('float32')"
      ]
    },
    {
      "cell_type": "code",
      "execution_count": 7,
      "id": "rR_tXQcRASJj",
      "metadata": {
        "id": "rR_tXQcRASJj"
      },
      "outputs": [],
      "source": [
        "number_of_classes= 10\n",
        "y_train = np_utils.to_categorical(y_train,number_of_classes)\n",
        "y_test = np_utils.to_categorical(y_test,number_of_classes)"
      ]
    },
    {
      "cell_type": "code",
      "execution_count": 8,
      "id": "KIDPI309AWG7",
      "metadata": {
        "colab": {
          "base_uri": "https://localhost:8080/"
        },
        "id": "KIDPI309AWG7",
        "outputId": "295868b0-8b38-4c72-9257-1c41644ffb13"
      },
      "outputs": [
        {
          "name": "stdout",
          "output_type": "stream",
          "text": [
            "After encoding the value 6 of y_test[21] become [0. 0. 0. 0. 0. 0. 1. 0. 0. 0.]\n"
          ]
        }
      ],
      "source": [
        "print(\"After encoding the value 6 of y_test[21] become\", y_test[21])"
      ]
    },
    {
      "cell_type": "code",
      "execution_count": 9,
      "id": "187d5e27",
      "metadata": {
        "id": "187d5e27"
      },
      "outputs": [],
      "source": [
        "model= tf.keras.Sequential()\n",
        "model.add(Conv2D(64,(3,3),input_shape=(28,28,1),activation='relu'))\n",
        "model.add(Conv2D(32,(3,3),activation='relu'))\n",
        "model.add(Flatten())\n",
        "model.add(Dense(number_of_classes,activation='softmax'))"
      ]
    },
    {
      "cell_type": "code",
      "execution_count": 10,
      "id": "e1f8d3ae",
      "metadata": {
        "id": "e1f8d3ae"
      },
      "outputs": [],
      "source": [
        "model.compile(loss='categorical_crossentropy',optimizer=\"Adam\", metrics=['accuracy'])"
      ]
    },
    {
      "cell_type": "code",
      "execution_count": 11,
      "id": "IS0ZxU50CAdl",
      "metadata": {
        "id": "IS0ZxU50CAdl"
      },
      "outputs": [],
      "source": [
        "early_stopping = EarlyStopping(monitor='accuracy',\n",
        "                        patience=3)\n",
        "reduce_lr = ReduceLROnPlateau(monitor='accuracy',\n",
        "                        patience=3,\n",
        "                        factor=0.5,min_lr=0.00001)\n",
        "\n",
        "callback = [reduce_lr,early_stopping]"
      ]
    },
    {
      "cell_type": "code",
      "execution_count": 12,
      "id": "ca9237bc",
      "metadata": {
        "colab": {
          "base_uri": "https://localhost:8080/"
        },
        "id": "ca9237bc",
        "outputId": "ed460db1-efca-4765-cd14-a2b1a28c5d09"
      },
      "outputs": [
        {
          "name": "stdout",
          "output_type": "stream",
          "text": [
            "Epoch 1/15\n",
            "1875/1875 [==============================] - 3404s 2s/step - loss: 0.2026 - accuracy: 0.9542 - val_loss: 0.0955 - val_accuracy: 0.9713 - lr: 0.0010\n",
            "Epoch 2/15\n",
            "1875/1875 [==============================] - 141s 75ms/step - loss: 0.0674 - accuracy: 0.9795 - val_loss: 0.1068 - val_accuracy: 0.9705 - lr: 0.0010\n",
            "Epoch 3/15\n",
            "1875/1875 [==============================] - 135s 72ms/step - loss: 0.0477 - accuracy: 0.9853 - val_loss: 0.0738 - val_accuracy: 0.9769 - lr: 0.0010\n",
            "Epoch 4/15\n",
            "1875/1875 [==============================] - 135s 72ms/step - loss: 0.0346 - accuracy: 0.9884 - val_loss: 0.0936 - val_accuracy: 0.9760 - lr: 0.0010\n",
            "Epoch 5/15\n",
            "1875/1875 [==============================] - 135s 72ms/step - loss: 0.0269 - accuracy: 0.9915 - val_loss: 0.1007 - val_accuracy: 0.9740 - lr: 0.0010\n",
            "Epoch 6/15\n",
            "1875/1875 [==============================] - 131s 70ms/step - loss: 0.0252 - accuracy: 0.9925 - val_loss: 0.1244 - val_accuracy: 0.9763 - lr: 0.0010\n",
            "Epoch 7/15\n",
            "1875/1875 [==============================] - 137s 73ms/step - loss: 0.0183 - accuracy: 0.9943 - val_loss: 0.1573 - val_accuracy: 0.9738 - lr: 0.0010\n",
            "Epoch 8/15\n",
            "1875/1875 [==============================] - 135s 72ms/step - loss: 0.0191 - accuracy: 0.9946 - val_loss: 0.1332 - val_accuracy: 0.9783 - lr: 0.0010\n",
            "Epoch 9/15\n",
            "1875/1875 [==============================] - 136s 72ms/step - loss: 0.0148 - accuracy: 0.9956 - val_loss: 0.1653 - val_accuracy: 0.9750 - lr: 0.0010\n",
            "Epoch 10/15\n",
            "1875/1875 [==============================] - 131s 70ms/step - loss: 0.0137 - accuracy: 0.9966 - val_loss: 0.1725 - val_accuracy: 0.9764 - lr: 0.0010\n",
            "Epoch 11/15\n",
            "1875/1875 [==============================] - 132s 71ms/step - loss: 0.0150 - accuracy: 0.9962 - val_loss: 0.1939 - val_accuracy: 0.9743 - lr: 0.0010\n",
            "Epoch 12/15\n",
            "1875/1875 [==============================] - 134s 71ms/step - loss: 0.0138 - accuracy: 0.9964 - val_loss: 0.2118 - val_accuracy: 0.9784 - lr: 0.0010\n",
            "Epoch 13/15\n",
            "1875/1875 [==============================] - 136s 72ms/step - loss: 0.0160 - accuracy: 0.9963 - val_loss: 0.2396 - val_accuracy: 0.9766 - lr: 0.0010\n"
          ]
        },
        {
          "data": {
            "text/plain": [
              "<keras.callbacks.History at 0x21dc5396320>"
            ]
          },
          "execution_count": 12,
          "metadata": {},
          "output_type": "execute_result"
        }
      ],
      "source": [
        "model.fit(X_train, y_train, validation_data=(X_test, y_test),epochs=15,batch_size=32,callbacks=callback)"
      ]
    },
    {
      "cell_type": "code",
      "execution_count": 13,
      "id": "4e6fb855",
      "metadata": {
        "colab": {
          "base_uri": "https://localhost:8080/"
        },
        "id": "4e6fb855",
        "outputId": "24e160e7-c006-4926-d180-13d42015d865"
      },
      "outputs": [
        {
          "name": "stdout",
          "output_type": "stream",
          "text": [
            "loss & accuracy\n",
            "[0.2396242916584015, 0.9765999913215637]\n"
          ]
        }
      ],
      "source": [
        "metrics=model.evaluate(X_test,y_test,verbose=0)\n",
        "print(\"loss & accuracy\")\n",
        "print(metrics)"
      ]
    },
    {
      "cell_type": "code",
      "execution_count": 14,
      "id": "f98e8e41",
      "metadata": {
        "colab": {
          "base_uri": "https://localhost:8080/"
        },
        "id": "f98e8e41",
        "outputId": "6e241a15-16d2-4a1d-debb-b75ec473665f"
      },
      "outputs": [
        {
          "name": "stdout",
          "output_type": "stream",
          "text": [
            "1/1 [==============================] - 0s 193ms/step\n",
            "[7 2 1 0]\n",
            "[[0. 0. 0. 0. 0. 0. 0. 1. 0. 0.]\n",
            " [0. 0. 1. 0. 0. 0. 0. 0. 0. 0.]\n",
            " [0. 1. 0. 0. 0. 0. 0. 0. 0. 0.]\n",
            " [1. 0. 0. 0. 0. 0. 0. 0. 0. 0.]]\n"
          ]
        }
      ],
      "source": [
        "prediction=model.predict(X_test[:4])\n",
        "print(np.argmax(prediction,axis=1))\n",
        "print(y_test[:4])"
      ]
    },
    {
      "cell_type": "code",
      "execution_count": 15,
      "id": "d4c1917d",
      "metadata": {
        "id": "d4c1917d"
      },
      "outputs": [],
      "source": [
        "model.save('digit-recognition.h5')"
      ]
    },
    {
      "cell_type": "code",
      "execution_count": 16,
      "id": "YXcDiH7eSMC7",
      "metadata": {
        "colab": {
          "base_uri": "https://localhost:8080/"
        },
        "id": "YXcDiH7eSMC7",
        "outputId": "1e16a196-45f7-4254-8826-dc19f5be534f"
      },
      "outputs": [
        {
          "name": "stderr",
          "output_type": "stream",
          "text": [
            "a digit-recognition.h5\n"
          ]
        }
      ],
      "source": [
        "!tar -zcvf digit-recognition.tar digit-recognition.h5"
      ]
    }
  ],
  "metadata": {
    "colab": {
      "provenance": []
    },
    "kernelspec": {
      "display_name": "Python 3.10.x 64-bit (microsoft store)",
      "language": "python",
      "name": "python3"
    },
    "language_info": {
      "codemirror_mode": {
        "name": "ipython",
        "version": 3
      },
      "file_extension": ".py",
      "mimetype": "text/x-python",
      "name": "python",
      "nbconvert_exporter": "python",
      "pygments_lexer": "ipython3",
      "version": "3.10.8"
    },
    "vscode": {
      "interpreter": {
        "hash": "dcdadc37ca0217e237549d0f206bc9b62c37c6c7aec46b46d89dad1d47945d56"
      }
    }
  },
  "nbformat": 4,
  "nbformat_minor": 5
}
